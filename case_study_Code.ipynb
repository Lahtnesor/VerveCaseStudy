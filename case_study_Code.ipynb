{
 "cells": [
  {
   "cell_type": "markdown",
   "id": "2baf1ddb",
   "metadata": {},
   "source": [
    "# Case study on auction for showing advertisement to random non-identifiable users"
   ]
  },
  {
   "cell_type": "markdown",
   "id": "2246895c",
   "metadata": {},
   "source": [
    "**Tasks:**\n",
    "- Problem 1: For a given aggregated data set the expected win rate shall be estimated\n",
    "- Problem 2: If the maximum budget of the advertisers would be 0.5, what would be the best bid valuation\n",
    "    \n",
    "**Steps:**\n",
    "- Check the data and calculate the rates as amount of events with win divided by amount of wins\n",
    "- Calculate max Win per bid_price and take into account the expected win rate\n",
    "- Chose the best bid_price to maximize the win * expected win rate\n",
    "- If there is a clear trend or tendency in the data, fit the win * expected win rate as function of bid_price, to be able to give best bid_prices with are not included in the underlying data\n",
    "\n",
    "**Downfalls:**\n",
    "- The data lacks a resonable discretization, it is not clear where the decay of the win * expected win rate occurs.\n",
    "- Therefore, it is not really useful to fit to any function, here the weigthed linear fit shall only show the general idea\n",
    "\n",
    "**Results:**\n",
    "- Problem 1: see table below\n",
    "- Problem 2: by the given data, the choice is a bid_price of 0.10, as it has the highest gain considering its expected win rate.\n",
    "- Real application: Set up a dynamic approach, which tracts the expected and realized wins and modifies the strategy as competitors as well as budgets of competitors change and also there strategies. For fast reception and ability to counter changes, A/B-Test should be used to also bid on not optimal prices to estimate possible needed increases or possible decreases for more win extraction."
   ]
  },
  {
   "cell_type": "code",
   "execution_count": 61,
   "id": "365779df",
   "metadata": {},
   "outputs": [],
   "source": [
    "# Libraries\n",
    "import numpy as np\n",
    "import pandas as pd\n",
    "#import scipy as sp\n",
    "# for clopper pearson intervals\n",
    "from statsmodels.stats.proportion import proportion_confint\n",
    "# for 2. problem and weigthed linear regression\n",
    "from sklearn.linear_model import LinearRegression\n"
   ]
  },
  {
   "cell_type": "code",
   "execution_count": 62,
   "id": "88e1d7d4",
   "metadata": {},
   "outputs": [],
   "source": [
    "# Load data\n",
    "data = pd.read_json('./data.json')"
   ]
  },
  {
   "cell_type": "code",
   "execution_count": 63,
   "id": "78f62b3f",
   "metadata": {},
   "outputs": [],
   "source": [
    "# group by for sum of all events and only wins per bid_price\n",
    "aggDat = data.groupby('bid_price').apply(lambda s: pd.Series({\n",
    "            'eventsAgg': s['events'].sum(),\n",
    "            'eventsWinAgg': (s['events'] * s['win']).sum(),\n",
    "        }\n",
    "    )   \n",
    ")\n",
    "\n",
    "# group by for 1. problem expected win rate: expWinRate\n",
    "aggDat['expWinRate'] = aggDat['eventsWinAgg'] / aggDat['eventsAgg']\n",
    "\n",
    "# add some clopper pearson confidence bands\n",
    "aggDat['confInt'] = aggDat.apply(\n",
    "    lambda x: proportion_confint(\n",
    "        int(\n",
    "            x['eventsWinAgg']\n",
    "        ),\n",
    "        int(\n",
    "            x['eventsAgg']\n",
    "        ),\n",
    "        alpha=0.05,\n",
    "        method='normal'\n",
    "    ),\n",
    "    axis= 1,\n",
    ")\n",
    "\n",
    "# as confInt being a tuple, split it and round for better presentation\n",
    "aggDat['lowerConfInt'] = (pd.DataFrame(aggDat['confInt'].tolist()).apply(lambda x : round(x,3))[0]).tolist()\n",
    "aggDat['upperConfInt'] = (pd.DataFrame(aggDat['confInt'].tolist()).apply(lambda x : round(x,3))[1]).tolist()\n",
    "\n",
    "del aggDat['confInt']\n",
    "\n",
    "# add weights for later weigthed linear fit\n",
    "aggDat['weight'] = aggDat['eventsAgg'] / aggDat['eventsAgg'].sum()\n",
    "\n",
    "# get rid of index from grouping, as it will be needed as column\n",
    "aggDat = aggDat.reset_index()\n",
    "\n",
    "# add target for minimization\n",
    "aggDat['win'] = 0.5 - aggDat['bid_price'] # possible win, if 0.5 is max budget \n",
    "aggDat['winProb'] = aggDat['win'] * aggDat['expWinRate'] # taking into account probabiltiy to win times win\n",
    "\n",
    "aggDat.to_json('finalTable.json')"
   ]
  },
  {
   "cell_type": "code",
   "execution_count": 64,
   "id": "b249517b",
   "metadata": {
    "scrolled": false
   },
   "outputs": [
    {
     "data": {
      "text/html": [
       "<div>\n",
       "<style scoped>\n",
       "    .dataframe tbody tr th:only-of-type {\n",
       "        vertical-align: middle;\n",
       "    }\n",
       "\n",
       "    .dataframe tbody tr th {\n",
       "        vertical-align: top;\n",
       "    }\n",
       "\n",
       "    .dataframe thead th {\n",
       "        text-align: right;\n",
       "    }\n",
       "</style>\n",
       "<table border=\"1\" class=\"dataframe\">\n",
       "  <thead>\n",
       "    <tr style=\"text-align: right;\">\n",
       "      <th></th>\n",
       "      <th>bid_price</th>\n",
       "      <th>eventsAgg</th>\n",
       "      <th>eventsWinAgg</th>\n",
       "      <th>expWinRate</th>\n",
       "      <th>lowerConfInt</th>\n",
       "      <th>upperConfInt</th>\n",
       "      <th>weight</th>\n",
       "      <th>win</th>\n",
       "      <th>winProb</th>\n",
       "    </tr>\n",
       "  </thead>\n",
       "  <tbody>\n",
       "    <tr>\n",
       "      <th>0</th>\n",
       "      <td>0.01</td>\n",
       "      <td>100000</td>\n",
       "      <td>0</td>\n",
       "      <td>0.0</td>\n",
       "      <td>0.000</td>\n",
       "      <td>0.000</td>\n",
       "      <td>8.911774e-03</td>\n",
       "      <td>0.49</td>\n",
       "      <td>0.000</td>\n",
       "    </tr>\n",
       "    <tr>\n",
       "      <th>1</th>\n",
       "      <td>0.10</td>\n",
       "      <td>10000</td>\n",
       "      <td>3000</td>\n",
       "      <td>0.3</td>\n",
       "      <td>0.291</td>\n",
       "      <td>0.309</td>\n",
       "      <td>8.911774e-04</td>\n",
       "      <td>0.40</td>\n",
       "      <td>0.120</td>\n",
       "    </tr>\n",
       "    <tr>\n",
       "      <th>2</th>\n",
       "      <td>0.20</td>\n",
       "      <td>10000000</td>\n",
       "      <td>2000000</td>\n",
       "      <td>0.2</td>\n",
       "      <td>0.200</td>\n",
       "      <td>0.200</td>\n",
       "      <td>8.911774e-01</td>\n",
       "      <td>0.30</td>\n",
       "      <td>0.060</td>\n",
       "    </tr>\n",
       "    <tr>\n",
       "      <th>3</th>\n",
       "      <td>0.40</td>\n",
       "      <td>1000000</td>\n",
       "      <td>300000</td>\n",
       "      <td>0.3</td>\n",
       "      <td>0.299</td>\n",
       "      <td>0.301</td>\n",
       "      <td>8.911774e-02</td>\n",
       "      <td>0.10</td>\n",
       "      <td>0.030</td>\n",
       "    </tr>\n",
       "    <tr>\n",
       "      <th>4</th>\n",
       "      <td>0.50</td>\n",
       "      <td>100000</td>\n",
       "      <td>20000</td>\n",
       "      <td>0.2</td>\n",
       "      <td>0.198</td>\n",
       "      <td>0.202</td>\n",
       "      <td>8.911774e-03</td>\n",
       "      <td>0.00</td>\n",
       "      <td>0.000</td>\n",
       "    </tr>\n",
       "    <tr>\n",
       "      <th>5</th>\n",
       "      <td>0.75</td>\n",
       "      <td>10000</td>\n",
       "      <td>3000</td>\n",
       "      <td>0.3</td>\n",
       "      <td>0.291</td>\n",
       "      <td>0.309</td>\n",
       "      <td>8.911774e-04</td>\n",
       "      <td>-0.25</td>\n",
       "      <td>-0.075</td>\n",
       "    </tr>\n",
       "    <tr>\n",
       "      <th>6</th>\n",
       "      <td>1.00</td>\n",
       "      <td>1000</td>\n",
       "      <td>600</td>\n",
       "      <td>0.6</td>\n",
       "      <td>0.570</td>\n",
       "      <td>0.630</td>\n",
       "      <td>8.911774e-05</td>\n",
       "      <td>-0.50</td>\n",
       "      <td>-0.300</td>\n",
       "    </tr>\n",
       "    <tr>\n",
       "      <th>7</th>\n",
       "      <td>2.00</td>\n",
       "      <td>100</td>\n",
       "      <td>70</td>\n",
       "      <td>0.7</td>\n",
       "      <td>0.610</td>\n",
       "      <td>0.790</td>\n",
       "      <td>8.911774e-06</td>\n",
       "      <td>-1.50</td>\n",
       "      <td>-1.050</td>\n",
       "    </tr>\n",
       "    <tr>\n",
       "      <th>8</th>\n",
       "      <td>5.00</td>\n",
       "      <td>10</td>\n",
       "      <td>8</td>\n",
       "      <td>0.8</td>\n",
       "      <td>0.552</td>\n",
       "      <td>1.000</td>\n",
       "      <td>8.911774e-07</td>\n",
       "      <td>-4.50</td>\n",
       "      <td>-3.600</td>\n",
       "    </tr>\n",
       "    <tr>\n",
       "      <th>9</th>\n",
       "      <td>9.00</td>\n",
       "      <td>1</td>\n",
       "      <td>1</td>\n",
       "      <td>1.0</td>\n",
       "      <td>1.000</td>\n",
       "      <td>1.000</td>\n",
       "      <td>8.911774e-08</td>\n",
       "      <td>-8.50</td>\n",
       "      <td>-8.500</td>\n",
       "    </tr>\n",
       "  </tbody>\n",
       "</table>\n",
       "</div>"
      ],
      "text/plain": [
       "   bid_price  eventsAgg  eventsWinAgg  expWinRate  lowerConfInt  upperConfInt  \\\n",
       "0       0.01     100000             0         0.0         0.000         0.000   \n",
       "1       0.10      10000          3000         0.3         0.291         0.309   \n",
       "2       0.20   10000000       2000000         0.2         0.200         0.200   \n",
       "3       0.40    1000000        300000         0.3         0.299         0.301   \n",
       "4       0.50     100000         20000         0.2         0.198         0.202   \n",
       "5       0.75      10000          3000         0.3         0.291         0.309   \n",
       "6       1.00       1000           600         0.6         0.570         0.630   \n",
       "7       2.00        100            70         0.7         0.610         0.790   \n",
       "8       5.00         10             8         0.8         0.552         1.000   \n",
       "9       9.00          1             1         1.0         1.000         1.000   \n",
       "\n",
       "         weight   win  winProb  \n",
       "0  8.911774e-03  0.49    0.000  \n",
       "1  8.911774e-04  0.40    0.120  \n",
       "2  8.911774e-01  0.30    0.060  \n",
       "3  8.911774e-02  0.10    0.030  \n",
       "4  8.911774e-03  0.00    0.000  \n",
       "5  8.911774e-04 -0.25   -0.075  \n",
       "6  8.911774e-05 -0.50   -0.300  \n",
       "7  8.911774e-06 -1.50   -1.050  \n",
       "8  8.911774e-07 -4.50   -3.600  \n",
       "9  8.911774e-08 -8.50   -8.500  "
      ]
     },
     "execution_count": 64,
     "metadata": {},
     "output_type": "execute_result"
    }
   ],
   "source": [
    "# 1. Problem: see bid_price vs expWinRate\n",
    "aggDat\n",
    "# 2. Problem: for discrete given bid_prices best valutation is 0.10 with the highest winProb and win of 0.40\n",
    "# But, in real bidding the competors, there algorithms and budgets change, therefore a more dynamical approch must be utilized in real life"
   ]
  },
  {
   "cell_type": "code",
   "execution_count": 65,
   "id": "d7a062f9",
   "metadata": {},
   "outputs": [
    {
     "data": {
      "text/plain": [
       "<AxesSubplot:xlabel='bid_price'>"
      ]
     },
     "execution_count": 65,
     "metadata": {},
     "output_type": "execute_result"
    },
    {
     "data": {
      "image/png": "[encoded data removed]",
      "text/plain": [
       "<Figure size 432x288 with 1 Axes>"
      ]
     },
     "metadata": {
      "needs_background": "light"
     },
     "output_type": "display_data"
    },
    {
     "data": {
      "image/png": "[encoded data removed]",
      "text/plain": [
       "<Figure size 432x288 with 1 Axes>"
      ]
     },
     "metadata": {
      "needs_background": "light"
     },
     "output_type": "display_data"
    }
   ],
   "source": [
    "# plot, (lowerConfInt for bid_price 9 does not make sense - please ignore - not further corrected)\n",
    "aggDat.plot(x = 'bid_price', y=['expWinRate','lowerConfInt','upperConfInt'], kind='line', logx = True)  \n",
    "aggDat.plot(x = 'bid_price', y=['win','winProb'], kind='line',logx=True) \n"
   ]
  },
  {
   "cell_type": "code",
   "execution_count": 66,
   "id": "3c6499c3",
   "metadata": {
    "scrolled": true
   },
   "outputs": [
    {
     "name": "stdout",
     "output_type": "stream",
     "text": [
      "Coef =  [[-0.13944029]]\n",
      "Intercept =  [0.08672309]\n"
     ]
    },
    {
     "data": {
      "text/plain": [
       "<AxesSubplot:xlabel='bid_price'>"
      ]
     },
     "execution_count": 66,
     "metadata": {},
     "output_type": "execute_result"
    },
    {
     "data": {
      "image/png": "[encoded data removed]",
      "text/plain": [
       "<Figure size 432x288 with 1 Axes>"
      ]
     },
     "metadata": {
      "needs_background": "light"
     },
     "output_type": "display_data"
    },
    {
     "data": {
      "image/png": "[encoded data removed]",
      "text/plain": [
       "<Figure size 432x288 with 1 Axes>"
      ]
     },
     "metadata": {
      "needs_background": "light"
     },
     "output_type": "display_data"
    }
   ],
   "source": [
    "# 2. problem: task: fit winProb on bid_price - for possible interpolation for not given bid_prices\n",
    "# the regression is of course not really useful, as we see in aggDat, that the fit will be dominated such, that a lower bid_price always ensures a higher win - the data is insufficent discretised and it is not clear, where the expWinRate starts to reduce below 0.1 as bid_price to assume a different polynominal fit \n",
    "reg = LinearRegression().fit(aggDat['bid_price'].to_numpy().reshape(-1, 1), aggDat['winProb'].to_numpy().reshape(-1, 1), aggDat['weight'])\n",
    "\n",
    "print('Coef = ', reg.coef_)\n",
    "print('Intercept = ', reg.intercept_)\n",
    "\n",
    "bidPrices = np.linspace(0.01, 0.5, num=100)\n",
    "\n",
    "predicts = pd.DataFrame({\n",
    "    'bidPrices':  bidPrices,\n",
    "    'winProbPredicted': reg.predict(bidPrices.reshape(-1, 1)).reshape(-1)\n",
    "})\n",
    "\n",
    "\n",
    "predicts.plot(x = 'bidPrices', y=['winProbPredicted'], kind='line') \n",
    "aggDat.iloc[0:5,].plot(x = 'bid_price', y=['winProb'], kind='line') \n",
    "\n"
   ]
  },
  {
   "cell_type": "code",
   "execution_count": null,
   "id": "ed638bba",
   "metadata": {},
   "outputs": [],
   "source": []
  }
 ],
 "metadata": {
  "kernelspec": {
   "display_name": "Python 3",
   "language": "python",
   "name": "python3"
  },
  "language_info": {
   "codemirror_mode": {
    "name": "ipython",
    "version": 3
   },
   "file_extension": ".py",
   "mimetype": "text/x-python",
   "name": "python",
   "nbconvert_exporter": "python",
   "pygments_lexer": "ipython3",
   "version": "3.6.13"
  }
 },
 "nbformat": 4,
 "nbformat_minor": 5
}
